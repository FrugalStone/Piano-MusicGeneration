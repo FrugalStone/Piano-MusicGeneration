{
 "cells": [
  {
   "cell_type": "code",
   "execution_count": 1,
   "metadata": {},
   "outputs": [
    {
     "data": {
      "image/png": "[encoded data removed]",
      "text/plain": [
       "<Figure size 640x480 with 1 Axes>"
      ]
     },
     "metadata": {},
     "output_type": "display_data"
    }
   ],
   "source": [
    "import matplotlib.pyplot as plt\n",
    "import matplotlib.patches as patches\n",
    "from mido import MidiFile\n",
    "\n",
    "# Load the MIDI file\n",
    "midi_file = MidiFile('datasets/Debussy_Generic/arabesq1.mid')\n",
    "\n",
    "# Create a new figure\n",
    "fig, ax = plt.subplots()\n",
    "\n",
    "# Set the x and y limits of the plot\n",
    "ax.set_xlim(0, midi_file.length)\n",
    "ax.set_ylim(0, 127)\n",
    "\n",
    "# Loop over each track in the MIDI file\n",
    "for i, track in enumerate(midi_file.tracks):\n",
    "    # Loop over each message in the track\n",
    "    for msg in track:\n",
    "        # If the message is a note on message, plot a rectangle\n",
    "        if msg.type == 'note_on':\n",
    "            rect = patches.Rectangle((msg.time, msg.note), msg.velocity, 1, color='blue')\n",
    "            ax.add_patch(rect)\n",
    "\n",
    "# Show the plot\n",
    "plt.show()\n"
   ]
  },
  {
   "cell_type": "code",
   "execution_count": 3,
   "metadata": {},
   "outputs": [],
   "source": [
    "import matplotlib.pyplot as plt\n",
    "import numpy as np\n",
    "import pretty_midi\n",
    "\n",
    "def plot_piano_roll(pm, start_pitch, end_pitch, fs=100):\n",
    "    # Calculate the piano roll dimensions\n",
    "    piano_roll = pm.get_piano_roll(fs=fs)\n",
    "    piano_roll = piano_roll[start_pitch:end_pitch, :]\n",
    "    # Plot the piano roll\n",
    "    fig, ax = plt.subplots(figsize=(8, 4))\n",
    "    ax.imshow(piano_roll.T, aspect='auto', origin='lower', cmap='gray_r')\n",
    "    # Add x and y axis labels\n",
    "    ax.set_xlabel('Time (seconds)')\n",
    "    ax.set_ylabel('MIDI Pitch')\n",
    "    # Set the yticks to the piano key frequencies\n",
    "    midi_frequencies = pretty_midi.note_number_to_hz(np.arange(0, 128))\n",
    "    piano_key_frequencies = midi_frequencies[12:84]  # Only show frequencies for keys on a standard piano\n",
    "    midi_ticks = pretty_midi.note_number_to_midi(np.arange(start_pitch, end_pitch))\n",
    "    ax.set_yticks(midi_ticks)\n",
    "    ax.set_yticklabels([f'{int(frequency)} Hz' for frequency in piano_key_frequencies])\n",
    "    # Set the xticks to time in seconds\n",
    "    seconds_per_tick = 1 / fs\n",
    "    tick_locations = np.arange(0, piano_roll.shape[1], fs)\n",
    "    time_labels = [f'{tick * seconds_per_tick:.1f}' for tick in tick_locations]\n",
    "    ax.set_xticks(tick_locations)\n",
    "    ax.set_xticklabels(time_labels)\n",
    "    plt.show()\n"
   ]
  },
  {
   "cell_type": "code",
   "execution_count": 8,
   "metadata": {},
   "outputs": [
    {
     "name": "stderr",
     "output_type": "stream",
     "text": [
      "c:\\Users\\triam\\anaconda3\\lib\\site-packages\\pretty_midi\\pretty_midi.py:100: RuntimeWarning: Tempo, Key or Time signature change events found on non-zero tracks.  This is not a valid type 0 or type 1 MIDI file.  Tempo, Key or Time Signature may be wrong.\n",
      "  warnings.warn(\n"
     ]
    },
    {
     "data": {
      "image/png": "[encoded data removed]",
      "text/plain": [
       "<Figure size 2000x400 with 1 Axes>"
      ]
     },
     "metadata": {},
     "output_type": "display_data"
    }
   ],
   "source": [
    "import numpy as np\n",
    "import matplotlib.pyplot as plt\n",
    "import pretty_midi\n",
    "\n",
    "def plot_piano_roll(piano_roll, start_pitch, end_pitch, fs=100):\n",
    "    # Create a new figure\n",
    "    fig = plt.figure(figsize=(20, 4))\n",
    "\n",
    "    # Add axis labels\n",
    "    plt.xlabel(\"Time\")\n",
    "    plt.ylabel(\"Pitch\")\n",
    "\n",
    "    # Set the plot limits\n",
    "    plt.xlim(0, piano_roll.shape[0] / fs)\n",
    "    plt.ylim(start_pitch, end_pitch)\n",
    "\n",
    "    # Plot the piano roll\n",
    "    plt.imshow(piano_roll.T, aspect='auto', origin='lower', cmap='gray_r')\n",
    "\n",
    "    # Show the plot\n",
    "    plt.show()\n",
    "\n",
    "# Load the MIDI file\n",
    "midi_data = pretty_midi.PrettyMIDI('datasets/Debussy_Generic/arabesq1.mid')\n",
    "\n",
    "# Get the piano roll for the MIDI file\n",
    "fs = 100  # Sampling frequency in Hz\n",
    "piano_roll = midi_data.get_piano_roll(fs=fs)\n",
    "\n",
    "# Set the range of pitches to display\n",
    "start_pitch = 21  # A0\n",
    "end_pitch = 108  # C8\n",
    "\n",
    "# Plot the piano roll\n",
    "plot_piano_roll(piano_roll, start_pitch, end_pitch, fs=fs)\n"
   ]
  },
  {
   "cell_type": "code",
   "execution_count": 9,
   "metadata": {},
   "outputs": [
    {
     "ename": "AttributeError",
     "evalue": "'PrettyMIDI' object has no attribute 'tracks'",
     "output_type": "error",
     "traceback": [
      "\u001b[1;31m---------------------------------------------------------------------------\u001b[0m",
      "\u001b[1;31mAttributeError\u001b[0m                            Traceback (most recent call last)",
      "\u001b[1;32m~\\AppData\\Local\\Temp\\ipykernel_69072\\455505967.py\u001b[0m in \u001b[0;36m<module>\u001b[1;34m\u001b[0m\n\u001b[0;32m     17\u001b[0m \u001b[1;33m\u001b[0m\u001b[0m\n\u001b[0;32m     18\u001b[0m \u001b[1;31m# Filter out non-zero tracks\u001b[0m\u001b[1;33m\u001b[0m\u001b[1;33m\u001b[0m\u001b[0m\n\u001b[1;32m---> 19\u001b[1;33m \u001b[0mmidi_data\u001b[0m\u001b[1;33m.\u001b[0m\u001b[0mtracks\u001b[0m \u001b[1;33m=\u001b[0m \u001b[1;33m[\u001b[0m\u001b[0mmidi_data\u001b[0m\u001b[1;33m.\u001b[0m\u001b[0mtracks\u001b[0m\u001b[1;33m[\u001b[0m\u001b[1;36m0\u001b[0m\u001b[1;33m]\u001b[0m\u001b[1;33m]\u001b[0m\u001b[1;33m\u001b[0m\u001b[1;33m\u001b[0m\u001b[0m\n\u001b[0m\u001b[0;32m     20\u001b[0m \u001b[1;33m\u001b[0m\u001b[0m\n\u001b[0;32m     21\u001b[0m \u001b[1;31m# Get piano roll\u001b[0m\u001b[1;33m\u001b[0m\u001b[1;33m\u001b[0m\u001b[0m\n",
      "\u001b[1;31mAttributeError\u001b[0m: 'PrettyMIDI' object has no attribute 'tracks'"
     ]
    }
   ],
   "source": [
    "import matplotlib.pyplot as plt\n",
    "import numpy as np\n",
    "import pretty_midi\n",
    "\n",
    "def plot_piano_roll(piano_roll, start_pitch, end_pitch, fs=10):\n",
    "    # Plot the piano roll\n",
    "    plt.figure(figsize=(8, 4))\n",
    "    plt.imshow(piano_roll.T, aspect='auto', cmap='gray_r', origin='lower')\n",
    "    plt.xlabel('Time')\n",
    "    plt.ylabel('Pitch')\n",
    "    plt.xticks(np.arange(0, piano_roll.shape[0], fs*4), np.arange(0, piano_roll.shape[0]//fs//4))\n",
    "    plt.yticks(np.arange(0, end_pitch-start_pitch), np.arange(start_pitch, end_pitch))\n",
    "    plt.show()\n",
    "\n",
    "# Load MIDI file into PrettyMIDI object\n",
    "midi_data = pretty_midi.PrettyMIDI('datasets/Debussy_Generic/arabesq1.mid')\n",
    "\n",
    "# Filter out non-zero tracks\n",
    "midi_data.tracks = [midi_data.tracks[0]]\n",
    "\n",
    "# Get piano roll\n",
    "fs = 10  # Sampling frequency in Hz\n",
    "piano_roll = midi_data.get_piano_roll(fs=fs)\n",
    "\n",
    "# Define the range of pitches to be included in the piano roll\n",
    "start_pitch = 21  # A0\n",
    "end_pitch = 108  # C8\n",
    "\n",
    "# Plot the piano roll\n",
    "plot_piano_roll(piano_roll[start_pitch:end_pitch], start_pitch, end_pitch, fs=fs)\n"
   ]
  },
  {
   "cell_type": "code",
   "execution_count": null,
   "metadata": {},
   "outputs": [],
   "source": [
    "import pretty_midi\n",
    "import matplotlib.pyplot as plt\n",
    "\n",
    "def plot_piano_roll(pm, start_pitch, end_pitch, fs=10):\n",
    "    # Use librosa's specshow function for displaying the piano roll\n",
    "    librosa.display.specshow(pm.get_piano_roll(fs)[start_pitch:end_pitch],\n",
    "                             hop_length=1, sr=fs, x_axis='time', y_axis='cqt_note',\n",
    "                             fmin=pretty_midi.note_number_to_hz(start_pitch))\n",
    "\n",
    "# Load MIDI file into PrettyMIDI object\n",
    "midi_data = pretty_midi.PrettyMIDI('datasets/Debussy_Generic/arabesq1.mid')\n",
    "\n",
    "# Plot piano roll\n",
    "plot_piano_roll(midi_data, 0, 127)\n",
    "plt.show()\n"
   ]
  }
 ],
 "metadata": {
  "kernelspec": {
   "display_name": "base",
   "language": "python",
   "name": "python3"
  },
  "language_info": {
   "codemirror_mode": {
    "name": "ipython",
    "version": 3
   },
   "file_extension": ".py",
   "mimetype": "text/x-python",
   "name": "python",
   "nbconvert_exporter": "python",
   "pygments_lexer": "ipython3",
   "version": "3.9.13"
  },
  "orig_nbformat": 4
 },
 "nbformat": 4,
 "nbformat_minor": 2
}
